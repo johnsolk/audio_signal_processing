{
 "cells": [
  {
   "cell_type": "markdown",
   "id": "cdcdc2d5-60d2-4c18-8707-ee4beaa5fc9b",
   "metadata": {},
   "source": [
    "# Sound processing with Python"
   ]
  },
  {
   "cell_type": "markdown",
   "id": "dc06919c-cf9d-4754-bcf8-5705d1fd523a",
   "metadata": {},
   "source": [
    "This is the code from the lecture, [\"Python and Sounds\"](https://www.coursera.org/lecture/audio-signal-processing/python-and-sounds-p4oGc) during [Week 1 of the \"Signal Processing Course\" on Coursera](https://www.coursera.org/learn/audio-signal-processing/home/week/1) by Dr. Xavier Serra, Universitat Pompeu Fabra, Barcelona\n",
    "\n",
    "February 04, 2024"
   ]
  },
  {
   "cell_type": "markdown",
   "id": "6af69fa9-7da4-4ec3-bbe8-a0daae097195",
   "metadata": {},
   "source": [
    "# Links"
   ]
  },
  {
   "cell_type": "markdown",
   "id": "17d2a09e-fa3e-44ad-9273-9ea4e08a1cb8",
   "metadata": {},
   "source": [
    "* Input wav files used: https://freesound.org/people/flcellogrl/packs/12408/\n",
    "* GitHub repository with notebooks: https://github.com/johnsolk/sound_data_processing\n",
    "* spectral modeling synthesis tools (sms-tools): https://github.com/MTG/sms-tools/tree/master"
   ]
  },
  {
   "cell_type": "markdown",
   "id": "0f0bd710-cfd8-458c-a240-83671378acfc",
   "metadata": {},
   "source": [
    "This notebook explores the following libraries:\n",
    "* scipy importing WAV format\n",
    "* matplotlib for plotting\n",
    "* numpy for matrices"
   ]
  },
  {
   "cell_type": "code",
   "execution_count": 1,
   "id": "40439f5b-fce8-4d07-b663-7c654fd824e1",
   "metadata": {},
   "outputs": [],
   "source": [
    "from scipy.io.wavfile import read\n",
    "from scipy.io.wavfile import write\n",
    "import matplotlib.pyplot as plt\n",
    "import numpy as np\n",
    "import IPython"
   ]
  },
  {
   "cell_type": "code",
   "execution_count": null,
   "id": "f84f10b9-97f2-4ef3-9306-3debdf7c65eb",
   "metadata": {},
   "outputs": [],
   "source": [
    "!git clone https://github.com/johnsolk/audio_signal_processing"
   ]
  },
  {
   "cell_type": "code",
   "execution_count": 2,
   "id": "57f7d412-56fe-4ed6-b9b1-1b740d94648a",
   "metadata": {},
   "outputs": [
    {
     "data": {
      "text/plain": [
       "44100"
      ]
     },
     "execution_count": 2,
     "metadata": {},
     "output_type": "execute_result"
    }
   ],
   "source": [
    "# Sampling rate and data\n",
    "(sample_rate,data)=read(\"audio_signal_processing/inputs/195272__flcellogrl__1_cello_c2.wav\")\n",
    "sample_rate"
   ]
  },
  {
   "cell_type": "code",
   "execution_count": 3,
   "id": "b14783e8-68cf-4956-bf3b-5b1704dfadcc",
   "metadata": {},
   "outputs": [
    {
     "data": {
      "text/plain": [
       "array([[-160,  -18],\n",
       "       [ -89, -107],\n",
       "       [-159,  -90],\n",
       "       ...,\n",
       "       [-430, -709],\n",
       "       [-463, -676],\n",
       "       [-534, -764]], dtype=int16)"
      ]
     },
     "execution_count": 3,
     "metadata": {},
     "output_type": "execute_result"
    }
   ],
   "source": [
    "data"
   ]
  },
  {
   "cell_type": "code",
   "execution_count": 4,
   "id": "0bf3f084-2ecb-4902-a162-244262a48245",
   "metadata": {},
   "outputs": [
    {
     "name": "stdout",
     "output_type": "stream",
     "text": [
      "number of channels = 2\n"
     ]
    }
   ],
   "source": [
    "print(f\"number of channels = {data.shape[1]}\")"
   ]
  },
  {
   "cell_type": "code",
   "execution_count": 5,
   "id": "b7505ce4-cb9c-4edb-b1b4-9d50ca489212",
   "metadata": {},
   "outputs": [],
   "source": [
    "length = data.shape[0] / sample_rate"
   ]
  },
  {
   "cell_type": "code",
   "execution_count": 6,
   "id": "cb2ee9d7-c4c0-4306-9ea3-8a8b6937bf1b",
   "metadata": {},
   "outputs": [
    {
     "data": {
      "text/plain": [
       "339968"
      ]
     },
     "execution_count": 6,
     "metadata": {},
     "output_type": "execute_result"
    }
   ],
   "source": [
    "data.size"
   ]
  },
  {
   "cell_type": "code",
   "execution_count": 7,
   "id": "a45fe6a8-1f96-4c76-ac86-654b02e47c8e",
   "metadata": {},
   "outputs": [
    {
     "data": {
      "text/plain": [
       "(169984, 2)"
      ]
     },
     "execution_count": 7,
     "metadata": {},
     "output_type": "execute_result"
    }
   ],
   "source": [
    "data.shape"
   ]
  },
  {
   "cell_type": "code",
   "execution_count": 8,
   "id": "08ab3964-afb9-4a63-b91d-74f2259f7be9",
   "metadata": {},
   "outputs": [
    {
     "data": {
      "text/plain": [
       "3.8545124716553287"
      ]
     },
     "execution_count": 8,
     "metadata": {},
     "output_type": "execute_result"
    }
   ],
   "source": [
    "# The number of seconds = size of the array / sampling rate\n",
    "seconds = data.shape[0]/sample_rate\n",
    "seconds"
   ]
  },
  {
   "cell_type": "code",
   "execution_count": 9,
   "id": "bd522a21-1372-4191-a530-5526327c5a38",
   "metadata": {},
   "outputs": [
    {
     "data": {
      "text/plain": [
       "numpy.ndarray"
      ]
     },
     "execution_count": 9,
     "metadata": {},
     "output_type": "execute_result"
    }
   ],
   "source": [
    "type(data)"
   ]
  },
  {
   "cell_type": "code",
   "execution_count": 10,
   "id": "6efc8fe6-8cd9-4fe9-a1b1-ae47245b48ce",
   "metadata": {},
   "outputs": [
    {
     "data": {
      "text/plain": [
       "int"
      ]
     },
     "execution_count": 10,
     "metadata": {},
     "output_type": "execute_result"
    }
   ],
   "source": [
    "type(sample_rate)"
   ]
  },
  {
   "cell_type": "code",
   "execution_count": 11,
   "id": "0030c0a3-efcb-46cb-9896-f5dea55ce547",
   "metadata": {},
   "outputs": [
    {
     "data": {
      "text/plain": [
       "3.8545124716553287"
      ]
     },
     "execution_count": 11,
     "metadata": {},
     "output_type": "execute_result"
    }
   ],
   "source": [
    "# convert sampling rate to decimal\n",
    "seconds = data.shape[0]/float(sample_rate)\n",
    "seconds"
   ]
  },
  {
   "cell_type": "code",
   "execution_count": 12,
   "id": "e6ef7327-67cc-463e-aa44-3022ce92e5ea",
   "metadata": {},
   "outputs": [
    {
     "data": {
      "text/plain": [
       "(169984,)"
      ]
     },
     "execution_count": 12,
     "metadata": {},
     "output_type": "execute_result"
    }
   ],
   "source": [
    "time = np.arange(0,seconds,(seconds/data.shape[0]))\n",
    "time.shape"
   ]
  },
  {
   "cell_type": "code",
   "execution_count": 13,
   "id": "f6df6d89-b8e4-4666-bb2d-f65383d1dd79",
   "metadata": {},
   "outputs": [
    {
     "data": {
      "text/plain": [
       "3.8544897959183673"
      ]
     },
     "execution_count": 13,
     "metadata": {},
     "output_type": "execute_result"
    }
   ],
   "source": [
    "np.max(time)"
   ]
  },
  {
   "cell_type": "code",
   "execution_count": 14,
   "id": "3a9e1123-427b-49f8-9ef3-c730bedcac03",
   "metadata": {},
   "outputs": [
    {
     "data": {
      "text/plain": [
       "169984"
      ]
     },
     "execution_count": 14,
     "metadata": {},
     "output_type": "execute_result"
    }
   ],
   "source": [
    "data.shape[0]"
   ]
  },
  {
   "cell_type": "code",
   "execution_count": 15,
   "id": "6c874d11-1ea6-4827-9daf-fe00bd970eed",
   "metadata": {},
   "outputs": [
    {
     "data": {
      "image/png": "[encoded data removed]",
      "text/plain": [
       "<Figure size 640x480 with 1 Axes>"
      ]
     },
     "metadata": {},
     "output_type": "display_data"
    }
   ],
   "source": [
    "plt.plot(time, data[:, 0], label=\"Left channel\")\n",
    "plt.plot(time, data[:, 1], label=\"Right channel\")\n",
    "plt.legend()\n",
    "plt.xlabel(\"Time [s]\")\n",
    "plt.ylabel(\"Amplitude\")\n",
    "plt.show()"
   ]
  },
  {
   "cell_type": "code",
   "execution_count": 16,
   "id": "1e8c8d03-e3bb-4799-a561-fcabb4e96f9f",
   "metadata": {},
   "outputs": [],
   "source": [
    "y = data[44100:45100]"
   ]
  },
  {
   "cell_type": "code",
   "execution_count": 17,
   "id": "48c4ad3f-c4bb-44ba-80f6-049a2e8bd059",
   "metadata": {},
   "outputs": [
    {
     "data": {
      "image/png": "[encoded data removed]",
      "text/plain": [
       "<Figure size 640x480 with 1 Axes>"
      ]
     },
     "metadata": {},
     "output_type": "display_data"
    }
   ],
   "source": [
    "plt.plot(y)\n",
    "plt.show()"
   ]
  },
  {
   "cell_type": "code",
   "execution_count": 18,
   "id": "5b2a2123-90f1-4ebd-9b80-fc1d6b2dbfe6",
   "metadata": {},
   "outputs": [
    {
     "data": {
      "text/plain": [
       "13180"
      ]
     },
     "execution_count": 18,
     "metadata": {},
     "output_type": "execute_result"
    }
   ],
   "source": [
    "np.max(y)"
   ]
  },
  {
   "cell_type": "code",
   "execution_count": 19,
   "id": "1fa42241-cdd3-4fe6-9bce-3aa09dadbd31",
   "metadata": {},
   "outputs": [
    {
     "data": {
      "text/plain": [
       "-290868"
      ]
     },
     "execution_count": 19,
     "metadata": {},
     "output_type": "execute_result"
    }
   ],
   "source": [
    "np.sum(y)"
   ]
  },
  {
   "cell_type": "code",
   "execution_count": 20,
   "id": "5359fd26-8f41-4c20-8100-3159fb52873d",
   "metadata": {},
   "outputs": [
    {
     "data": {
      "text/plain": [
       "8391180"
      ]
     },
     "execution_count": 20,
     "metadata": {},
     "output_type": "execute_result"
    }
   ],
   "source": [
    "np.sum(abs(y))"
   ]
  },
  {
   "cell_type": "code",
   "execution_count": 21,
   "id": "852d411e-fc60-4d09-ac12-bc0ec34d4ec6",
   "metadata": {},
   "outputs": [],
   "source": [
    "write('test.wav',sample_rate,y)"
   ]
  },
  {
   "cell_type": "code",
   "execution_count": 22,
   "id": "3121a013-a64c-46aa-8355-a1bcab0cc4a7",
   "metadata": {},
   "outputs": [
    {
     "name": "stdout",
     "output_type": "stream",
     "text": [
      "LICENSE      README.md    \u001b[34minputs\u001b[m\u001b[m/      sound.ipynb  test.wav\n"
     ]
    }
   ],
   "source": [
    "ls"
   ]
  },
  {
   "cell_type": "code",
   "execution_count": 23,
   "id": "6c1c5775-9975-4f10-95b3-dc4064bc1998",
   "metadata": {},
   "outputs": [
    {
     "name": "stdout",
     "output_type": "stream",
     "text": [
      "\n",
      "inputs/195272__flcellogrl__1_cello_c2.wav:\n",
      "\n",
      " File Size: 680k      Bit Rate: 1.41M\n",
      "  Encoding: Signed PCM    \n",
      "  Channels: 2 @ 16-bit   \n",
      "Samplerate: 44100Hz      \n",
      "Replaygain: off         \n",
      "  Duration: 00:00:03.85  \n",
      "\n",
      "In:100%  00:00:03.85 [00:00:00.00] Out:185k  [      |      ]        Clip:0    \n",
      "Done.\n"
     ]
    }
   ],
   "source": [
    "IPython.display.Audio('audio_signal_processing/inputs/195272__flcellogrl__1_cello_c2.wav')"
   ]
  },
  {
   "cell_type": "code",
   "execution_count": 24,
   "id": "db984f73-770c-4767-96d1-e6971276f76e",
   "metadata": {},
   "outputs": [
    {
     "name": "stdout",
     "output_type": "stream",
     "text": [
      "\n",
      "test.wav:\n",
      "\n",
      " File Size: 4.04k     Bit Rate: 1.43M\n",
      "  Encoding: Signed PCM    \n",
      "  Channels: 2 @ 16-bit   \n",
      "Samplerate: 44100Hz      \n",
      "Replaygain: off         \n",
      "  Duration: 00:00:00.02  \n",
      "\n",
      "In:100%  00:00:00.02 [00:00:00.00] Out:1.09k [ -====|====- ]        Clip:0    \n",
      "Done.\n"
     ]
    }
   ],
   "source": [
    "IPython.display.Audio('test.wav')"
   ]
  },
  {
   "cell_type": "code",
   "execution_count": null,
   "id": "e6329906-57af-4932-bd25-df63749e213b",
   "metadata": {},
   "outputs": [],
   "source": []
  }
 ],
 "metadata": {
  "kernelspec": {
   "display_name": "Python 3 (ipykernel)",
   "language": "python",
   "name": "python3"
  },
  "language_info": {
   "codemirror_mode": {
    "name": "ipython",
    "version": 3
   },
   "file_extension": ".py",
   "mimetype": "text/x-python",
   "name": "python",
   "nbconvert_exporter": "python",
   "pygments_lexer": "ipython3",
   "version": "3.11.6"
  }
 },
 "nbformat": 4,
 "nbformat_minor": 5
}
