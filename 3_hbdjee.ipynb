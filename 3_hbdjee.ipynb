{
 "cells": [
  {
   "cell_type": "markdown",
   "id": "d9a44b3d-4af5-4416-95b7-5ebbc97bd4e2",
   "metadata": {},
   "source": [
    "# Happy Birthday!"
   ]
  },
  {
   "cell_type": "markdown",
   "id": "b43418b7-e01b-4f53-b597-4f7229f10c7c",
   "metadata": {},
   "source": [
    "March 21, 2024"
   ]
  },
  {
   "cell_type": "markdown",
   "id": "6a5f81e8-d661-466a-bb5a-d9c17b63cd36",
   "metadata": {},
   "source": [
    "CoLab: https://colab.research.google.com/github/johnsolk/sound_data_processing/blob/main/3_hbdjee.ipynb"
   ]
  },
  {
   "cell_type": "markdown",
   "id": "1da1c033-2805-4901-b925-3107cf209198",
   "metadata": {},
   "source": [
    "* https://stackoverflow.com/questions/2890703/how-to-join-two-wav-files-using-python\n",
    "* https://freesound.org/people/flcellogrl/packs/12408/"
   ]
  },
  {
   "cell_type": "code",
   "execution_count": null,
   "id": "08f2af91-1b06-4f98-82ac-7ca5d3033887",
   "metadata": {},
   "outputs": [],
   "source": [
    "import os\n",
    "import librosa\n",
    "import numpy as np\n",
    "from scipy.io.wavfile import write\n",
    "import IPython"
   ]
  },
  {
   "cell_type": "code",
   "execution_count": null,
   "id": "0daa6a01-57d9-4577-921c-34ffc3e8e535",
   "metadata": {},
   "outputs": [],
   "source": [
    "!git clone https://github.com/johnsolk/audio_signal_processing/"
   ]
  },
  {
   "cell_type": "code",
   "execution_count": null,
   "id": "9c9d1a0b-b973-443e-8be5-ce5f15b34044",
   "metadata": {},
   "outputs": [],
   "source": [
    "inputsdir = \"inputs/hbdjee/\"\n",
    "infiles = os.listdir(inputsdir)\n",
    "print(infiles)"
   ]
  },
  {
   "cell_type": "code",
   "execution_count": null,
   "id": "fe0e315d-06c2-4a4e-b9e8-5a69f071392a",
   "metadata": {},
   "outputs": [],
   "source": [
    "audio1, sample_rate = librosa.load(inputsdir+\"195272__flcellogrl__1_cello_c2.wav\")\n",
    "audio3, sample_rate = librosa.load(inputsdir+\"195277__flcellogrl__3_cello_d2.wav\")\n",
    "audio5, sample_rate = librosa.load(inputsdir+\"195281__flcellogrl__5_cello_e2.wav\")\n",
    "audio6, sample_rate = librosa.load(inputsdir+\"195280__flcellogrl__6_cello_f2.wav\")\n",
    "audio8, sample_rate = librosa.load(inputsdir+\"195282__flcellogrl__8_cello_g2_fingeroncstring.wav\")"
   ]
  },
  {
   "cell_type": "markdown",
   "id": "00615eca-e407-4f4d-baba-d7f2f7329974",
   "metadata": {},
   "source": [
    "# HBD1"
   ]
  },
  {
   "cell_type": "code",
   "execution_count": null,
   "id": "100aeceb-3ced-46ad-8f50-7b027b62cc4f",
   "metadata": {},
   "outputs": [],
   "source": [
    "data = np.append(audio1,audio1)\n",
    "data = np.append(data,audio3)\n",
    "data = np.append(data,audio1)\n",
    "data = np.append(data,audio6)\n",
    "data = np.append(data,audio5)"
   ]
  },
  {
   "cell_type": "code",
   "execution_count": null,
   "id": "abe8e2d9-44f6-4148-8c75-04a270c29334",
   "metadata": {},
   "outputs": [],
   "source": [
    "write('hbd.wav',sample_rate,data)"
   ]
  },
  {
   "cell_type": "code",
   "execution_count": null,
   "id": "14e7e7b7-a4fd-4682-aca3-10b4f02402a9",
   "metadata": {},
   "outputs": [],
   "source": [
    "IPython.display.Audio('hbd.wav')"
   ]
  },
  {
   "cell_type": "markdown",
   "id": "f64b8baa-06d4-434e-b45a-2cb93d02245c",
   "metadata": {},
   "source": [
    "# Owl"
   ]
  },
  {
   "cell_type": "code",
   "execution_count": null,
   "id": "a8c190e8-2cd8-4737-88a2-788a31af47b1",
   "metadata": {},
   "outputs": [],
   "source": [
    "owl, sample_rate = librosa.load(inputsdir+\"owl.wav\")"
   ]
  },
  {
   "cell_type": "code",
   "execution_count": null,
   "id": "7bbe052d-b198-443e-a710-0d386838bcfe",
   "metadata": {},
   "outputs": [],
   "source": [
    "IPython.display.Audio(inputsdir+'owl.wav')"
   ]
  },
  {
   "cell_type": "markdown",
   "id": "aa60ce09-5e90-403e-878a-93fe65ac32a5",
   "metadata": {},
   "source": [
    "# HBD2"
   ]
  },
  {
   "cell_type": "code",
   "execution_count": null,
   "id": "f50ce952-b36c-4ce3-8c2b-26d40570a12c",
   "metadata": {},
   "outputs": [],
   "source": [
    "data = np.append(audio1,audio1)\n",
    "data = np.append(data,audio3)\n",
    "data = np.append(data,audio1)\n",
    "data = np.append(data,audio8)\n",
    "data = np.append(data,audio6)"
   ]
  },
  {
   "cell_type": "code",
   "execution_count": null,
   "id": "4dfe8518-ed8a-45f2-bc94-e77969090cf7",
   "metadata": {},
   "outputs": [],
   "source": [
    "write('hbd2.wav',sample_rate,data)"
   ]
  },
  {
   "cell_type": "code",
   "execution_count": null,
   "id": "e2b9f7eb-1f4c-4d09-ba2b-623849cfcee8",
   "metadata": {},
   "outputs": [],
   "source": [
    "IPython.display.Audio('hbd2.wav')"
   ]
  },
  {
   "cell_type": "markdown",
   "id": "6257568c-858c-4bd6-b30b-8fb4a0144eb6",
   "metadata": {},
   "source": [
    "# HBD3"
   ]
  },
  {
   "cell_type": "code",
   "execution_count": null,
   "id": "6b399024-aedc-4737-a581-718976d49d4d",
   "metadata": {},
   "outputs": [],
   "source": [
    "audio1, sample_rate = librosa.load(inputsdir+\"195279__flcellogrl__1_cello_c3.wav\")\n",
    "audio1_1, sample_rate = librosa.load(inputsdir+\"195690__flcellogrl__1_cello_c4.wav\")\n",
    "audio10, sample_rate = librosa.load(inputsdir+\"195545__flcellogrl__10_cello_a3_fingeredondstring.wav\")\n",
    "audio6, sample_rate = librosa.load(inputsdir+\"195546__flcellogrl__6_cello_f3.wav\")\n",
    "audio5, sample_rate = librosa.load(inputsdir+\"195547__flcellogrl__5_cello_e3.wav\")\n",
    "audio3, sample_rate = librosa.load(inputsdir+\"195542__flcellogrl__3_cello_-d3_fingerongstring.wav\")"
   ]
  },
  {
   "cell_type": "code",
   "execution_count": null,
   "id": "771399db-2dec-4245-b73a-b5be4382574e",
   "metadata": {},
   "outputs": [],
   "source": [
    "data = np.append(audio1,audio1)\n",
    "data = np.append(data,audio1_1)\n",
    "data = np.append(data,audio10)\n",
    "data = np.append(data,audio6)\n",
    "data = np.append(data,audio5)\n",
    "data = np.append(data,audio3)"
   ]
  },
  {
   "cell_type": "code",
   "execution_count": null,
   "id": "7ace7377-823e-4983-b45c-4de08ab27699",
   "metadata": {},
   "outputs": [],
   "source": [
    "write('hbd3.wav',sample_rate,data)"
   ]
  },
  {
   "cell_type": "code",
   "execution_count": null,
   "id": "000b88a6-134f-4940-b2fe-918567ce22fd",
   "metadata": {},
   "outputs": [],
   "source": [
    "IPython.display.Audio('hbd3.wav')"
   ]
  },
  {
   "cell_type": "markdown",
   "id": "2cfe946f-b5df-4237-9e55-06ef00bfaa16",
   "metadata": {},
   "source": [
    "# HPD4"
   ]
  },
  {
   "cell_type": "code",
   "execution_count": null,
   "id": "3f002ee1-e460-4744-9e11-a0610848ab9c",
   "metadata": {},
   "outputs": [],
   "source": [
    "audio11, sample_rate = librosa.load(inputsdir+\"195274__flcellogrl__11_cello_a2_bb2.wav\")\n",
    "audio10, sample_rate = librosa.load(inputsdir+\"195275__flcellogrl__10_cello_a2.wav\")\n",
    "audio6, sample_rate = librosa.load(inputsdir+\"195280__flcellogrl__6_cello_f2.wav\")\n",
    "audio8, sample_rate = librosa.load(inputsdir+\"195282__flcellogrl__8_cello_g2_fingeroncstring.wav\")"
   ]
  },
  {
   "cell_type": "code",
   "execution_count": null,
   "id": "99f441a9-cda4-4ae0-a3ac-c5937f79fc11",
   "metadata": {},
   "outputs": [],
   "source": [
    "data = np.append(audio11,audio11)\n",
    "data = np.append(data,audio10)\n",
    "data = np.append(data,audio6)\n",
    "data = np.append(data,audio8)\n",
    "data = np.append(data,audio6)"
   ]
  },
  {
   "cell_type": "code",
   "execution_count": null,
   "id": "8632a6fb-3234-4414-bd80-d8b4459a7659",
   "metadata": {},
   "outputs": [],
   "source": [
    "write('hbd4.wav',sample_rate,data)"
   ]
  },
  {
   "cell_type": "code",
   "execution_count": null,
   "id": "e33d121b-a1f5-4ba8-8750-363102bc057b",
   "metadata": {},
   "outputs": [],
   "source": [
    "IPython.display.Audio('hbd4.wav')"
   ]
  }
 ],
 "metadata": {
  "kernelspec": {
   "display_name": "Python 3 (ipykernel)",
   "language": "python",
   "name": "python3"
  },
  "language_info": {
   "codemirror_mode": {
    "name": "ipython",
    "version": 3
   },
   "file_extension": ".py",
   "mimetype": "text/x-python",
   "name": "python",
   "nbconvert_exporter": "python",
   "pygments_lexer": "ipython3",
   "version": "3.11.6"
  }
 },
 "nbformat": 4,
 "nbformat_minor": 5
}
