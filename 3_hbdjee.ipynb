{
 "cells": [
  {
   "cell_type": "markdown",
   "id": "d9a44b3d-4af5-4416-95b7-5ebbc97bd4e2",
   "metadata": {},
   "source": [
    "# Happy Birthday!"
   ]
  },
  {
   "cell_type": "markdown",
   "id": "b43418b7-e01b-4f53-b597-4f7229f10c7c",
   "metadata": {},
   "source": [
    "March 21, 2024"
   ]
  },
  {
   "cell_type": "markdown",
   "id": "6a5f81e8-d661-466a-bb5a-d9c17b63cd36",
   "metadata": {},
   "source": [
    "CoLab: https://colab.research.google.com/github/johnsolk/sound_data_processing/blob/main/3_hbdjee.ipynb"
   ]
  },
  {
   "cell_type": "markdown",
   "id": "1da1c033-2805-4901-b925-3107cf209198",
   "metadata": {},
   "source": [
    "* https://stackoverflow.com/questions/2890703/how-to-join-two-wav-files-using-python\n",
    "* https://github.com/jiaaro/pydub\n",
    "* https://freesound.org/people/flcellogrl/packs/12408/"
   ]
  },
  {
   "cell_type": "code",
   "execution_count": null,
   "id": "6d2708a6-7267-415b-a920-dc110c50dee2",
   "metadata": {},
   "outputs": [],
   "source": [
    "!pip install librosa pydub"
   ]
  },
  {
   "cell_type": "code",
   "execution_count": null,
   "id": "08f2af91-1b06-4f98-82ac-7ca5d3033887",
   "metadata": {},
   "outputs": [],
   "source": [
    "import os\n",
    "import librosa\n",
    "import numpy as np\n",
    "from scipy.io.wavfile import write\n",
    "import IPython"
   ]
  },
  {
   "cell_type": "code",
   "execution_count": null,
   "id": "0daa6a01-57d9-4577-921c-34ffc3e8e535",
   "metadata": {},
   "outputs": [],
   "source": [
    "!git clone https://github.com/johnsolk/audio_signal_processing/"
   ]
  },
  {
   "cell_type": "code",
   "execution_count": null,
   "id": "9c9d1a0b-b973-443e-8be5-ce5f15b34044",
   "metadata": {},
   "outputs": [],
   "source": [
    "inputsdir = \"audio_signal_processing/inputs/hbdjee/\"\n",
    "#inputsdir = \"inputs/hbdjee/\"\n",
    "infiles = os.listdir(inputsdir)\n",
    "print(infiles)"
   ]
  },
  {
   "cell_type": "code",
   "execution_count": null,
   "id": "fe0e315d-06c2-4a4e-b9e8-5a69f071392a",
   "metadata": {},
   "outputs": [],
   "source": [
    "audio1, sample_rate = librosa.load(inputsdir+\"195272__flcellogrl__1_cello_c2.wav\")\n",
    "audio3, sample_rate = librosa.load(inputsdir+\"195277__flcellogrl__3_cello_d2.wav\")\n",
    "audio5, sample_rate = librosa.load(inputsdir+\"195281__flcellogrl__5_cello_e2.wav\")\n",
    "audio6, sample_rate = librosa.load(inputsdir+\"195280__flcellogrl__6_cello_f2.wav\")\n",
    "audio8, sample_rate = librosa.load(inputsdir+\"195282__flcellogrl__8_cello_g2_fingeroncstring.wav\")"
   ]
  },
  {
   "cell_type": "markdown",
   "id": "00615eca-e407-4f4d-baba-d7f2f7329974",
   "metadata": {},
   "source": [
    "# HBD1"
   ]
  },
  {
   "cell_type": "code",
   "execution_count": null,
   "id": "100aeceb-3ced-46ad-8f50-7b027b62cc4f",
   "metadata": {},
   "outputs": [],
   "source": [
    "data = np.append(audio1,audio1)\n",
    "data = np.append(data,audio3)\n",
    "data = np.append(data,audio1)\n",
    "data = np.append(data,audio6)\n",
    "data = np.append(data,audio5)"
   ]
  },
  {
   "cell_type": "code",
   "execution_count": null,
   "id": "abe8e2d9-44f6-4148-8c75-04a270c29334",
   "metadata": {},
   "outputs": [],
   "source": [
    "write('hbd1.wav',sample_rate,data)"
   ]
  },
  {
   "cell_type": "code",
   "execution_count": null,
   "id": "14e7e7b7-a4fd-4682-aca3-10b4f02402a9",
   "metadata": {},
   "outputs": [],
   "source": [
    "IPython.display.Audio('hbd1.wav')"
   ]
  },
  {
   "cell_type": "markdown",
   "id": "f64b8baa-06d4-434e-b45a-2cb93d02245c",
   "metadata": {},
   "source": [
    "# Owl"
   ]
  },
  {
   "cell_type": "code",
   "execution_count": null,
   "id": "a8c190e8-2cd8-4737-88a2-788a31af47b1",
   "metadata": {},
   "outputs": [],
   "source": [
    "owl, sample_rate = librosa.load(inputsdir+\"owl.wav\")"
   ]
  },
  {
   "cell_type": "code",
   "execution_count": null,
   "id": "7bbe052d-b198-443e-a710-0d386838bcfe",
   "metadata": {},
   "outputs": [],
   "source": [
    "IPython.display.Audio(inputsdir+'owl.wav')"
   ]
  },
  {
   "cell_type": "markdown",
   "id": "aa60ce09-5e90-403e-878a-93fe65ac32a5",
   "metadata": {},
   "source": [
    "# HBD2"
   ]
  },
  {
   "cell_type": "code",
   "execution_count": null,
   "id": "f50ce952-b36c-4ce3-8c2b-26d40570a12c",
   "metadata": {},
   "outputs": [],
   "source": [
    "data = np.append(audio1,audio1)\n",
    "data = np.append(data,audio3)\n",
    "data = np.append(data,audio1)\n",
    "data = np.append(data,audio8)\n",
    "data = np.append(data,audio6)"
   ]
  },
  {
   "cell_type": "code",
   "execution_count": null,
   "id": "4dfe8518-ed8a-45f2-bc94-e77969090cf7",
   "metadata": {},
   "outputs": [],
   "source": [
    "write('hbd2.wav',sample_rate,data)"
   ]
  },
  {
   "cell_type": "code",
   "execution_count": null,
   "id": "e2b9f7eb-1f4c-4d09-ba2b-623849cfcee8",
   "metadata": {},
   "outputs": [],
   "source": [
    "IPython.display.Audio('hbd2.wav')"
   ]
  },
  {
   "cell_type": "markdown",
   "id": "6257568c-858c-4bd6-b30b-8fb4a0144eb6",
   "metadata": {},
   "source": [
    "# HBD3"
   ]
  },
  {
   "cell_type": "code",
   "execution_count": null,
   "id": "6b399024-aedc-4737-a581-718976d49d4d",
   "metadata": {},
   "outputs": [],
   "source": [
    "audio1, sample_rate = librosa.load(inputsdir+\"195279__flcellogrl__1_cello_c3.wav\")\n",
    "audio1_1, sample_rate = librosa.load(inputsdir+\"195690__flcellogrl__1_cello_c4.wav\")\n",
    "audio10, sample_rate = librosa.load(inputsdir+\"195545__flcellogrl__10_cello_a3_fingeredondstring.wav\")\n",
    "audio6, sample_rate = librosa.load(inputsdir+\"195546__flcellogrl__6_cello_f3.wav\")\n",
    "audio5, sample_rate = librosa.load(inputsdir+\"195547__flcellogrl__5_cello_e3.wav\")\n",
    "audio3, sample_rate = librosa.load(inputsdir+\"195542__flcellogrl__3_cello_-d3_fingerongstring.wav\")"
   ]
  },
  {
   "cell_type": "code",
   "execution_count": null,
   "id": "771399db-2dec-4245-b73a-b5be4382574e",
   "metadata": {},
   "outputs": [],
   "source": [
    "data = np.append(audio1,audio1)\n",
    "data = np.append(data,audio1_1)\n",
    "data = np.append(data,audio10)\n",
    "data = np.append(data,audio6)\n",
    "data = np.append(data,audio5)\n",
    "data = np.append(data,audio3)"
   ]
  },
  {
   "cell_type": "code",
   "execution_count": null,
   "id": "7ace7377-823e-4983-b45c-4de08ab27699",
   "metadata": {},
   "outputs": [],
   "source": [
    "write('hbd3.wav',sample_rate,data)"
   ]
  },
  {
   "cell_type": "code",
   "execution_count": null,
   "id": "000b88a6-134f-4940-b2fe-918567ce22fd",
   "metadata": {},
   "outputs": [],
   "source": [
    "IPython.display.Audio('hbd3.wav')"
   ]
  },
  {
   "cell_type": "markdown",
   "id": "2cfe946f-b5df-4237-9e55-06ef00bfaa16",
   "metadata": {},
   "source": [
    "# HPD4"
   ]
  },
  {
   "cell_type": "code",
   "execution_count": null,
   "id": "3f002ee1-e460-4744-9e11-a0610848ab9c",
   "metadata": {},
   "outputs": [],
   "source": [
    "audio11, sample_rate = librosa.load(inputsdir+\"195274__flcellogrl__11_cello_a2_bb2.wav\")\n",
    "audio10, sample_rate = librosa.load(inputsdir+\"195275__flcellogrl__10_cello_a2.wav\")\n",
    "audio6, sample_rate = librosa.load(inputsdir+\"195280__flcellogrl__6_cello_f2.wav\")\n",
    "audio8, sample_rate = librosa.load(inputsdir+\"195282__flcellogrl__8_cello_g2_fingeroncstring.wav\")"
   ]
  },
  {
   "cell_type": "code",
   "execution_count": null,
   "id": "99f441a9-cda4-4ae0-a3ac-c5937f79fc11",
   "metadata": {},
   "outputs": [],
   "source": [
    "data = np.append(audio11,audio11)\n",
    "data = np.append(data,audio10)\n",
    "data = np.append(data,audio6)\n",
    "data = np.append(data,audio8)\n",
    "data = np.append(data,audio6)"
   ]
  },
  {
   "cell_type": "code",
   "execution_count": null,
   "id": "8632a6fb-3234-4414-bd80-d8b4459a7659",
   "metadata": {},
   "outputs": [],
   "source": [
    "write('hbd4.wav',sample_rate,data)"
   ]
  },
  {
   "cell_type": "code",
   "execution_count": null,
   "id": "e33d121b-a1f5-4ba8-8750-363102bc057b",
   "metadata": {},
   "outputs": [],
   "source": [
    "IPython.display.Audio('hbd4.wav')"
   ]
  },
  {
   "cell_type": "markdown",
   "id": "65c6bb5f-4728-4a18-ad5a-cd18a585ab48",
   "metadata": {},
   "source": [
    "# Putting it all together"
   ]
  },
  {
   "cell_type": "markdown",
   "id": "2e1ddfb3-7568-422b-838a-9baec3d5d716",
   "metadata": {},
   "source": [
    "Since Jeff's birthday is 3/21/24, let's put the sections above together in the following order: `3`-`2`-`1`-`owl`-`2`-`4`. And let's speed it up 5x so it doesn't take so long to play."
   ]
  },
  {
   "cell_type": "code",
   "execution_count": null,
   "id": "c5e5e254-16e1-4fbd-a368-a77eef82132f",
   "metadata": {},
   "outputs": [],
   "source": [
    "from pydub import AudioSegment\n",
    "from pydub.effects import speedup"
   ]
  },
  {
   "cell_type": "code",
   "execution_count": null,
   "id": "f3f66f6d-f749-429b-84c4-910277c109bd",
   "metadata": {},
   "outputs": [],
   "source": [
    "audio1 = AudioSegment.from_wav(\"hbd1.wav\")\n",
    "audio2 = AudioSegment.from_wav(\"hbd2.wav\")\n",
    "audio3 = AudioSegment.from_wav(\"hbd3.wav\")\n",
    "audio4 = AudioSegment.from_wav(\"hbd4.wav\")\n",
    "owlaudio = AudioSegment.from_wav(inputsdir+'owl.wav')"
   ]
  },
  {
   "cell_type": "code",
   "execution_count": null,
   "id": "9b3063b0-52c8-464d-a676-291c148ed299",
   "metadata": {},
   "outputs": [],
   "source": [
    "type(audio1)"
   ]
  },
  {
   "cell_type": "code",
   "execution_count": null,
   "id": "6636422d-bb9f-46de-a030-7569614f5f9e",
   "metadata": {},
   "outputs": [],
   "source": [
    "speed1 = speedup(audio1,5,150)\n",
    "speed2 = speedup(audio2,5,150)\n",
    "March = speedup(audio3,5,150)\n",
    "speed4 = speedup(audio4,5,150)"
   ]
  },
  {
   "cell_type": "code",
   "execution_count": null,
   "id": "fd9683a7-cca5-4b51-ab54-fefbc0254361",
   "metadata": {},
   "outputs": [],
   "source": [
    "order = March + speed2\n",
    "order += speed1\n",
    "order += owlaudio\n",
    "order += speed2\n",
    "order += speed4"
   ]
  },
  {
   "cell_type": "code",
   "execution_count": null,
   "id": "a41ea996-9ce2-48ec-8187-3ef977a2cef0",
   "metadata": {},
   "outputs": [],
   "source": [
    "order.export(\"hbdjee_speed.wav\", format=\"wav\")"
   ]
  },
  {
   "cell_type": "code",
   "execution_count": null,
   "id": "c1861941-e22a-4a39-8c55-d75d37fdfaf1",
   "metadata": {},
   "outputs": [],
   "source": [
    "IPython.display.Audio('hbdjee_speed.wav')"
   ]
  },
  {
   "cell_type": "markdown",
   "id": "e3ccffa8-17f5-41de-b81b-56b0fb51ea20",
   "metadata": {},
   "source": [
    "# Voice model transformation with Holly+"
   ]
  },
  {
   "cell_type": "markdown",
   "id": "16773215-2b2b-4ca1-91a0-85adc12025f9",
   "metadata": {},
   "source": [
    "Upload to Holly+ to apply voice model/transform: https://holly.plus/\n",
    "* Link to result: https://holly.plus/share/jBd89xTxyvkUh1hw4Qf1QD"
   ]
  },
  {
   "cell_type": "code",
   "execution_count": null,
   "id": "c6f8bd10-1623-4ad1-af5c-6951c27a7660",
   "metadata": {},
   "outputs": [],
   "source": [
    "IPython.display.Audio('audio_signal_processing/inputs/hbdjee/holly_plus_hbdjee_speed_32124.mp3')\n",
    "#IPython.display.Audio('inputs/hbdjee/holly_plus_hbdjee_speed_32124.mp3')"
   ]
  },
  {
   "cell_type": "markdown",
   "id": "7224b8f6-f79f-4d2e-bec8-78c2d8e7ae6b",
   "metadata": {},
   "source": [
    "# Future ideas"
   ]
  },
  {
   "cell_type": "markdown",
   "id": "2760ef93-bc03-440e-9307-30cb312ea0ba",
   "metadata": {},
   "source": [
    "In no particular order:\n",
    "* convert to MIDI\n",
    "* new variation of the melody with AI-generated patterns, for example this [project](https://experiments.withgoogle.com/ai/ai-duet/view/) made with this [code](https://github.com/googlecreativelab/aiexperiments-ai-duet) ([video](https://youtu.be/0ZE1bfPtvZo?si=P7S05AQ8ywCqxJs8))\n",
    "* apply BPM estimation, e.g. https://github.com/johnsolk/audio_signal_processing/blob/main/2_beats_detection_bpm_estimation.ipynb\n",
    "* generate some cool beats based on BPM estimation\n",
    "* auto timbre transformation\n",
    "* noise reduction (make it sound less poppy and scary)"
   ]
  },
  {
   "cell_type": "code",
   "execution_count": null,
   "id": "51256042-c308-40c2-8e15-5c616aac2c34",
   "metadata": {},
   "outputs": [],
   "source": []
  }
 ],
 "metadata": {
  "kernelspec": {
   "display_name": "Python 3 (ipykernel)",
   "language": "python",
   "name": "python3"
  },
  "language_info": {
   "codemirror_mode": {
    "name": "ipython",
    "version": 3
   },
   "file_extension": ".py",
   "mimetype": "text/x-python",
   "name": "python",
   "nbconvert_exporter": "python",
   "pygments_lexer": "ipython3",
   "version": "3.11.6"
  }
 },
 "nbformat": 4,
 "nbformat_minor": 5
}
